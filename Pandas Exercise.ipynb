{
 "cells": [
  {
   "cell_type": "code",
   "execution_count": 221,
   "metadata": {},
   "outputs": [],
   "source": [
    "import numpy as np\n",
    "import pandas as pd"
   ]
  },
  {
   "attachments": {},
   "cell_type": "markdown",
   "metadata": {},
   "source": [
    "# Series"
   ]
  },
  {
   "cell_type": "code",
   "execution_count": 222,
   "metadata": {},
   "outputs": [
    {
     "data": {
      "text/plain": [
       "Metehan    22\n",
       "Emre       21\n",
       "Hasan      24\n",
       "dtype: int64"
      ]
     },
     "execution_count": 222,
     "metadata": {},
     "output_type": "execute_result"
    }
   ],
   "source": [
    "dict1 = {\"Metehan\" : 22 , \"Emre\" : 21 , \"Hasan\" : 24}\n",
    "pd.Series(dict1)"
   ]
  },
  {
   "cell_type": "code",
   "execution_count": 223,
   "metadata": {},
   "outputs": [
    {
     "data": {
      "text/plain": [
       "Metehan    22\n",
       "Emre       21\n",
       "Hasan      24\n",
       "dtype: int64"
      ]
     },
     "execution_count": 223,
     "metadata": {},
     "output_type": "execute_result"
    }
   ],
   "source": [
    "age = [22,21,24]\n",
    "name = [\"Metehan\" , \"Emre\" , \"Hasan\"]\n",
    "pd.Series(data = age, index = name) "
   ]
  },
  {
   "cell_type": "code",
   "execution_count": 224,
   "metadata": {},
   "outputs": [
    {
     "data": {
      "text/plain": [
       "1    Metehan\n",
       "2       Emre\n",
       "3      Hasan\n",
       "dtype: object"
      ]
     },
     "execution_count": 224,
     "metadata": {},
     "output_type": "execute_result"
    }
   ],
   "source": [
    "pd.Series([\"Metehan\", \"Emre\", \"Hasan\"] , [1,2,3]) # looking the dtype"
   ]
  },
  {
   "cell_type": "code",
   "execution_count": 225,
   "metadata": {},
   "outputs": [
    {
     "data": {
      "text/plain": [
       "Metehan    100\n",
       "Emre        99\n",
       "Hasan       98\n",
       "dtype: int64"
      ]
     },
     "execution_count": 225,
     "metadata": {},
     "output_type": "execute_result"
    }
   ],
   "source": [
    "race1 = pd.Series([100,99,98],[\"Metehan\" , \"Emre\" , \"Hasan\"])\n",
    "race1"
   ]
  },
  {
   "cell_type": "code",
   "execution_count": 226,
   "metadata": {},
   "outputs": [
    {
     "data": {
      "text/plain": [
       "Metehan    65\n",
       "Emre       59\n",
       "Hasan      38\n",
       "dtype: int64"
      ]
     },
     "execution_count": 226,
     "metadata": {},
     "output_type": "execute_result"
    }
   ],
   "source": [
    "race2= pd.Series([65,59,38],[\"Metehan\" , \"Emre\" , \"Hasan\"])\n",
    "race2"
   ]
  },
  {
   "cell_type": "code",
   "execution_count": 227,
   "metadata": {},
   "outputs": [
    {
     "data": {
      "text/plain": [
       "Metehan    165\n",
       "Emre       158\n",
       "Hasan      136\n",
       "dtype: int64"
      ]
     },
     "execution_count": 227,
     "metadata": {},
     "output_type": "execute_result"
    }
   ],
   "source": [
    "racedone = race1 + race2 \n",
    "racedone"
   ]
  },
  {
   "cell_type": "code",
   "execution_count": 228,
   "metadata": {},
   "outputs": [
    {
     "data": {
      "text/plain": [
       "Metehan    65\n",
       "Emre       59\n",
       "dtype: int64"
      ]
     },
     "execution_count": 228,
     "metadata": {},
     "output_type": "execute_result"
    }
   ],
   "source": [
    "race3= pd.Series([65,59],[\"Metehan\" , \"Emre\"])\n",
    "race3"
   ]
  },
  {
   "cell_type": "code",
   "execution_count": 229,
   "metadata": {},
   "outputs": [
    {
     "data": {
      "text/plain": [
       "Metehan    65\n",
       "Emre       59\n",
       "Hasan      38\n",
       "dtype: int64"
      ]
     },
     "execution_count": 229,
     "metadata": {},
     "output_type": "execute_result"
    }
   ],
   "source": [
    "race2= pd.Series([65,59,38],[\"Metehan\" , \"Emre\" , \"Hasan\"])\n",
    "race2"
   ]
  },
  {
   "cell_type": "code",
   "execution_count": 230,
   "metadata": {},
   "outputs": [
    {
     "data": {
      "text/plain": [
       "Emre       118.0\n",
       "Hasan        NaN\n",
       "Metehan    130.0\n",
       "dtype: float64"
      ]
     },
     "execution_count": 230,
     "metadata": {},
     "output_type": "execute_result"
    }
   ],
   "source": [
    "race2 + race3 # NAN is not dif."
   ]
  },
  {
   "attachments": {},
   "cell_type": "markdown",
   "metadata": {},
   "source": [
    "# DataFrame"
   ]
  },
  {
   "cell_type": "code",
   "execution_count": 231,
   "metadata": {},
   "outputs": [
    {
     "data": {
      "text/plain": [
       "array([[ 1.21606545, -0.97322225, -0.05761733],\n",
       "       [-0.97810451,  0.59558354, -0.70891678],\n",
       "       [ 0.13464565, -0.8866835 , -0.10849951],\n",
       "       [-0.5026525 ,  0.65482824,  0.400405  ]])"
      ]
     },
     "execution_count": 231,
     "metadata": {},
     "output_type": "execute_result"
    }
   ],
   "source": [
    "data = np.random.randn(4,3)\n",
    "data"
   ]
  },
  {
   "cell_type": "code",
   "execution_count": 232,
   "metadata": {},
   "outputs": [
    {
     "data": {
      "text/html": [
       "<div>\n",
       "<style scoped>\n",
       "    .dataframe tbody tr th:only-of-type {\n",
       "        vertical-align: middle;\n",
       "    }\n",
       "\n",
       "    .dataframe tbody tr th {\n",
       "        vertical-align: top;\n",
       "    }\n",
       "\n",
       "    .dataframe thead th {\n",
       "        text-align: right;\n",
       "    }\n",
       "</style>\n",
       "<table border=\"1\" class=\"dataframe\">\n",
       "  <thead>\n",
       "    <tr style=\"text-align: right;\">\n",
       "      <th></th>\n",
       "      <th>0</th>\n",
       "      <th>1</th>\n",
       "      <th>2</th>\n",
       "    </tr>\n",
       "  </thead>\n",
       "  <tbody>\n",
       "    <tr>\n",
       "      <th>0</th>\n",
       "      <td>1.216065</td>\n",
       "      <td>-0.973222</td>\n",
       "      <td>-0.057617</td>\n",
       "    </tr>\n",
       "    <tr>\n",
       "      <th>1</th>\n",
       "      <td>-0.978105</td>\n",
       "      <td>0.595584</td>\n",
       "      <td>-0.708917</td>\n",
       "    </tr>\n",
       "    <tr>\n",
       "      <th>2</th>\n",
       "      <td>0.134646</td>\n",
       "      <td>-0.886684</td>\n",
       "      <td>-0.108500</td>\n",
       "    </tr>\n",
       "    <tr>\n",
       "      <th>3</th>\n",
       "      <td>-0.502652</td>\n",
       "      <td>0.654828</td>\n",
       "      <td>0.400405</td>\n",
       "    </tr>\n",
       "  </tbody>\n",
       "</table>\n",
       "</div>"
      ],
      "text/plain": [
       "          0         1         2\n",
       "0  1.216065 -0.973222 -0.057617\n",
       "1 -0.978105  0.595584 -0.708917\n",
       "2  0.134646 -0.886684 -0.108500\n",
       "3 -0.502652  0.654828  0.400405"
      ]
     },
     "execution_count": 232,
     "metadata": {},
     "output_type": "execute_result"
    }
   ],
   "source": [
    "dataframe = pd.DataFrame(data)\n",
    "dataframe"
   ]
  },
  {
   "cell_type": "code",
   "execution_count": 233,
   "metadata": {},
   "outputs": [
    {
     "data": {
      "text/html": [
       "<div>\n",
       "<style scoped>\n",
       "    .dataframe tbody tr th:only-of-type {\n",
       "        vertical-align: middle;\n",
       "    }\n",
       "\n",
       "    .dataframe tbody tr th {\n",
       "        vertical-align: top;\n",
       "    }\n",
       "\n",
       "    .dataframe thead th {\n",
       "        text-align: right;\n",
       "    }\n",
       "</style>\n",
       "<table border=\"1\" class=\"dataframe\">\n",
       "  <thead>\n",
       "    <tr style=\"text-align: right;\">\n",
       "      <th></th>\n",
       "      <th>Maaş</th>\n",
       "      <th>Yaş</th>\n",
       "      <th>Çalışma</th>\n",
       "    </tr>\n",
       "  </thead>\n",
       "  <tbody>\n",
       "    <tr>\n",
       "      <th>Metehan</th>\n",
       "      <td>1.216065</td>\n",
       "      <td>-0.973222</td>\n",
       "      <td>-0.057617</td>\n",
       "    </tr>\n",
       "    <tr>\n",
       "      <th>Hasan</th>\n",
       "      <td>-0.978105</td>\n",
       "      <td>0.595584</td>\n",
       "      <td>-0.708917</td>\n",
       "    </tr>\n",
       "    <tr>\n",
       "      <th>Ali</th>\n",
       "      <td>0.134646</td>\n",
       "      <td>-0.886684</td>\n",
       "      <td>-0.108500</td>\n",
       "    </tr>\n",
       "    <tr>\n",
       "      <th>Emine</th>\n",
       "      <td>-0.502652</td>\n",
       "      <td>0.654828</td>\n",
       "      <td>0.400405</td>\n",
       "    </tr>\n",
       "  </tbody>\n",
       "</table>\n",
       "</div>"
      ],
      "text/plain": [
       "             Maaş       Yaş   Çalışma\n",
       "Metehan  1.216065 -0.973222 -0.057617\n",
       "Hasan   -0.978105  0.595584 -0.708917\n",
       "Ali      0.134646 -0.886684 -0.108500\n",
       "Emine   -0.502652  0.654828  0.400405"
      ]
     },
     "execution_count": 233,
     "metadata": {},
     "output_type": "execute_result"
    }
   ],
   "source": [
    "dataframe1 = pd.DataFrame(data,index = [\"Metehan\" , \"Hasan\" , \"Ali\" , \"Emine\"] , columns = [\"Maaş\" , \"Yaş\" , \"Çalışma\"])\n",
    "dataframe1"
   ]
  },
  {
   "cell_type": "code",
   "execution_count": 234,
   "metadata": {},
   "outputs": [
    {
     "data": {
      "text/plain": [
       "Metehan   -0.973222\n",
       "Hasan      0.595584\n",
       "Ali       -0.886684\n",
       "Emine      0.654828\n",
       "Name: Yaş, dtype: float64"
      ]
     },
     "execution_count": 234,
     "metadata": {},
     "output_type": "execute_result"
    }
   ],
   "source": [
    "dataframe1[\"Yaş\"]"
   ]
  },
  {
   "cell_type": "code",
   "execution_count": 235,
   "metadata": {},
   "outputs": [
    {
     "data": {
      "text/plain": [
       "Maaş       1.216065\n",
       "Yaş       -0.973222\n",
       "Çalışma   -0.057617\n",
       "Name: Metehan, dtype: float64"
      ]
     },
     "execution_count": 235,
     "metadata": {},
     "output_type": "execute_result"
    }
   ],
   "source": [
    "# For index \n",
    "dataframe1.loc[\"Metehan\"]"
   ]
  },
  {
   "cell_type": "code",
   "execution_count": 236,
   "metadata": {},
   "outputs": [
    {
     "data": {
      "text/plain": [
       "Maaş       1.216065\n",
       "Yaş       -0.973222\n",
       "Çalışma   -0.057617\n",
       "Name: Metehan, dtype: float64"
      ]
     },
     "execution_count": 236,
     "metadata": {},
     "output_type": "execute_result"
    }
   ],
   "source": [
    "# For İndex \n",
    "dataframe1.iloc[0]\n"
   ]
  },
  {
   "cell_type": "code",
   "execution_count": 237,
   "metadata": {},
   "outputs": [
    {
     "data": {
      "text/html": [
       "<div>\n",
       "<style scoped>\n",
       "    .dataframe tbody tr th:only-of-type {\n",
       "        vertical-align: middle;\n",
       "    }\n",
       "\n",
       "    .dataframe tbody tr th {\n",
       "        vertical-align: top;\n",
       "    }\n",
       "\n",
       "    .dataframe thead th {\n",
       "        text-align: right;\n",
       "    }\n",
       "</style>\n",
       "<table border=\"1\" class=\"dataframe\">\n",
       "  <thead>\n",
       "    <tr style=\"text-align: right;\">\n",
       "      <th></th>\n",
       "      <th>Maaş</th>\n",
       "      <th>Yaş</th>\n",
       "      <th>Çalışma</th>\n",
       "      <th>Emekli Oranı</th>\n",
       "    </tr>\n",
       "  </thead>\n",
       "  <tbody>\n",
       "    <tr>\n",
       "      <th>Metehan</th>\n",
       "      <td>1.216065</td>\n",
       "      <td>-0.973222</td>\n",
       "      <td>-0.057617</td>\n",
       "      <td>-3.198806</td>\n",
       "    </tr>\n",
       "    <tr>\n",
       "      <th>Hasan</th>\n",
       "      <td>-0.978105</td>\n",
       "      <td>0.595584</td>\n",
       "      <td>-0.708917</td>\n",
       "      <td>-0.061194</td>\n",
       "    </tr>\n",
       "    <tr>\n",
       "      <th>Ali</th>\n",
       "      <td>0.134646</td>\n",
       "      <td>-0.886684</td>\n",
       "      <td>-0.108500</td>\n",
       "      <td>-3.025728</td>\n",
       "    </tr>\n",
       "    <tr>\n",
       "      <th>Emine</th>\n",
       "      <td>-0.502652</td>\n",
       "      <td>0.654828</td>\n",
       "      <td>0.400405</td>\n",
       "      <td>0.057295</td>\n",
       "    </tr>\n",
       "  </tbody>\n",
       "</table>\n",
       "</div>"
      ],
      "text/plain": [
       "             Maaş       Yaş   Çalışma  Emekli Oranı\n",
       "Metehan  1.216065 -0.973222 -0.057617     -3.198806\n",
       "Hasan   -0.978105  0.595584 -0.708917     -0.061194\n",
       "Ali      0.134646 -0.886684 -0.108500     -3.025728\n",
       "Emine   -0.502652  0.654828  0.400405      0.057295"
      ]
     },
     "execution_count": 237,
     "metadata": {},
     "output_type": "execute_result"
    }
   ],
   "source": [
    "dataframe1[\"Emekli Oranı\"] = np.random.randn() + dataframe1[\"Yaş\"] *2\n",
    "dataframe1\n",
    "# Here we add a column and give values"
   ]
  },
  {
   "attachments": {},
   "cell_type": "markdown",
   "metadata": {},
   "source": [
    "Dell The Column For DataFrame"
   ]
  },
  {
   "cell_type": "code",
   "execution_count": 238,
   "metadata": {},
   "outputs": [],
   "source": [
    "dataframe1.drop(\"Emekli Oranı\" , axis = 1 , inplace = True)"
   ]
  },
  {
   "cell_type": "code",
   "execution_count": 239,
   "metadata": {},
   "outputs": [],
   "source": [
    "dataframe1 = dataframe1.drop(\"Hasan\" , axis = 0)"
   ]
  },
  {
   "cell_type": "code",
   "execution_count": 240,
   "metadata": {},
   "outputs": [
    {
     "data": {
      "text/plain": [
       "-0.973222254982399"
      ]
     },
     "execution_count": 240,
     "metadata": {},
     "output_type": "execute_result"
    }
   ],
   "source": [
    "dataframe1.loc[\"Metehan\" , \"Yaş\"]\n"
   ]
  },
  {
   "cell_type": "code",
   "execution_count": 241,
   "metadata": {},
   "outputs": [
    {
     "name": "stdout",
     "output_type": "stream",
     "text": [
      "          Maaş    Yaş  Çalışma\n",
      "Metehan   True  False    False\n",
      "Ali       True  False    False\n",
      "Emine    False   True     True\n"
     ]
    },
    {
     "data": {
      "text/html": [
       "<div>\n",
       "<style scoped>\n",
       "    .dataframe tbody tr th:only-of-type {\n",
       "        vertical-align: middle;\n",
       "    }\n",
       "\n",
       "    .dataframe tbody tr th {\n",
       "        vertical-align: top;\n",
       "    }\n",
       "\n",
       "    .dataframe thead th {\n",
       "        text-align: right;\n",
       "    }\n",
       "</style>\n",
       "<table border=\"1\" class=\"dataframe\">\n",
       "  <thead>\n",
       "    <tr style=\"text-align: right;\">\n",
       "      <th></th>\n",
       "      <th>Maaş</th>\n",
       "      <th>Yaş</th>\n",
       "      <th>Çalışma</th>\n",
       "    </tr>\n",
       "  </thead>\n",
       "  <tbody>\n",
       "    <tr>\n",
       "      <th>Metehan</th>\n",
       "      <td>1.216065</td>\n",
       "      <td>-0.973222</td>\n",
       "      <td>-0.057617</td>\n",
       "    </tr>\n",
       "    <tr>\n",
       "      <th>Ali</th>\n",
       "      <td>0.134646</td>\n",
       "      <td>-0.886684</td>\n",
       "      <td>-0.108500</td>\n",
       "    </tr>\n",
       "    <tr>\n",
       "      <th>Emine</th>\n",
       "      <td>-0.502652</td>\n",
       "      <td>0.654828</td>\n",
       "      <td>0.400405</td>\n",
       "    </tr>\n",
       "  </tbody>\n",
       "</table>\n",
       "</div>"
      ],
      "text/plain": [
       "             Maaş       Yaş   Çalışma\n",
       "Metehan  1.216065 -0.973222 -0.057617\n",
       "Ali      0.134646 -0.886684 -0.108500\n",
       "Emine   -0.502652  0.654828  0.400405"
      ]
     },
     "execution_count": 241,
     "metadata": {},
     "output_type": "execute_result"
    }
   ],
   "source": [
    "print(dataframe1 > 0)\n",
    "dataframe1\n"
   ]
  },
  {
   "cell_type": "code",
   "execution_count": 242,
   "metadata": {},
   "outputs": [
    {
     "data": {
      "text/html": [
       "<div>\n",
       "<style scoped>\n",
       "    .dataframe tbody tr th:only-of-type {\n",
       "        vertical-align: middle;\n",
       "    }\n",
       "\n",
       "    .dataframe tbody tr th {\n",
       "        vertical-align: top;\n",
       "    }\n",
       "\n",
       "    .dataframe thead th {\n",
       "        text-align: right;\n",
       "    }\n",
       "</style>\n",
       "<table border=\"1\" class=\"dataframe\">\n",
       "  <thead>\n",
       "    <tr style=\"text-align: right;\">\n",
       "      <th></th>\n",
       "      <th>Maaş</th>\n",
       "      <th>Yaş</th>\n",
       "      <th>Çalışma</th>\n",
       "    </tr>\n",
       "  </thead>\n",
       "  <tbody>\n",
       "  </tbody>\n",
       "</table>\n",
       "</div>"
      ],
      "text/plain": [
       "Empty DataFrame\n",
       "Columns: [Maaş, Yaş, Çalışma]\n",
       "Index: []"
      ]
     },
     "execution_count": 242,
     "metadata": {},
     "output_type": "execute_result"
    }
   ],
   "source": [
    "dataframe1[dataframe1[\"Maaş\"] < -0.6] \n",
    "# Here too we can learn the big ones and the small ones among the columns and indices"
   ]
  },
  {
   "attachments": {},
   "cell_type": "markdown",
   "metadata": {},
   "source": [
    "# Change The İndex"
   ]
  },
  {
   "cell_type": "code",
   "execution_count": 243,
   "metadata": {},
   "outputs": [
    {
     "data": {
      "text/html": [
       "<div>\n",
       "<style scoped>\n",
       "    .dataframe tbody tr th:only-of-type {\n",
       "        vertical-align: middle;\n",
       "    }\n",
       "\n",
       "    .dataframe tbody tr th {\n",
       "        vertical-align: top;\n",
       "    }\n",
       "\n",
       "    .dataframe thead th {\n",
       "        text-align: right;\n",
       "    }\n",
       "</style>\n",
       "<table border=\"1\" class=\"dataframe\">\n",
       "  <thead>\n",
       "    <tr style=\"text-align: right;\">\n",
       "      <th></th>\n",
       "      <th>Maaş</th>\n",
       "      <th>Yaş</th>\n",
       "      <th>Çalışma</th>\n",
       "      <th>Yeni İsimler</th>\n",
       "    </tr>\n",
       "  </thead>\n",
       "  <tbody>\n",
       "    <tr>\n",
       "      <th>Metehan</th>\n",
       "      <td>1.216065</td>\n",
       "      <td>-0.973222</td>\n",
       "      <td>-0.057617</td>\n",
       "      <td>Mete</td>\n",
       "    </tr>\n",
       "    <tr>\n",
       "      <th>Ali</th>\n",
       "      <td>0.134646</td>\n",
       "      <td>-0.886684</td>\n",
       "      <td>-0.108500</td>\n",
       "      <td>Emre</td>\n",
       "    </tr>\n",
       "    <tr>\n",
       "      <th>Emine</th>\n",
       "      <td>-0.502652</td>\n",
       "      <td>0.654828</td>\n",
       "      <td>0.400405</td>\n",
       "      <td>Şükür</td>\n",
       "    </tr>\n",
       "  </tbody>\n",
       "</table>\n",
       "</div>"
      ],
      "text/plain": [
       "             Maaş       Yaş   Çalışma Yeni İsimler\n",
       "Metehan  1.216065 -0.973222 -0.057617         Mete\n",
       "Ali      0.134646 -0.886684 -0.108500         Emre\n",
       "Emine   -0.502652  0.654828  0.400405        Şükür"
      ]
     },
     "execution_count": 243,
     "metadata": {},
     "output_type": "execute_result"
    }
   ],
   "source": [
    "newindex = [\"Mete\" , \"Emre\" , \"Şükür\"]\n",
    "dataframe1[\"Yeni İsimler\"] = newindex\n",
    "dataframe1"
   ]
  },
  {
   "cell_type": "code",
   "execution_count": 244,
   "metadata": {},
   "outputs": [
    {
     "data": {
      "text/html": [
       "<div>\n",
       "<style scoped>\n",
       "    .dataframe tbody tr th:only-of-type {\n",
       "        vertical-align: middle;\n",
       "    }\n",
       "\n",
       "    .dataframe tbody tr th {\n",
       "        vertical-align: top;\n",
       "    }\n",
       "\n",
       "    .dataframe thead th {\n",
       "        text-align: right;\n",
       "    }\n",
       "</style>\n",
       "<table border=\"1\" class=\"dataframe\">\n",
       "  <thead>\n",
       "    <tr style=\"text-align: right;\">\n",
       "      <th></th>\n",
       "      <th>Maaş</th>\n",
       "      <th>Yaş</th>\n",
       "      <th>Çalışma</th>\n",
       "    </tr>\n",
       "    <tr>\n",
       "      <th>Yeni İsimler</th>\n",
       "      <th></th>\n",
       "      <th></th>\n",
       "      <th></th>\n",
       "    </tr>\n",
       "  </thead>\n",
       "  <tbody>\n",
       "    <tr>\n",
       "      <th>Mete</th>\n",
       "      <td>1.216065</td>\n",
       "      <td>-0.973222</td>\n",
       "      <td>-0.057617</td>\n",
       "    </tr>\n",
       "    <tr>\n",
       "      <th>Emre</th>\n",
       "      <td>0.134646</td>\n",
       "      <td>-0.886684</td>\n",
       "      <td>-0.108500</td>\n",
       "    </tr>\n",
       "    <tr>\n",
       "      <th>Şükür</th>\n",
       "      <td>-0.502652</td>\n",
       "      <td>0.654828</td>\n",
       "      <td>0.400405</td>\n",
       "    </tr>\n",
       "  </tbody>\n",
       "</table>\n",
       "</div>"
      ],
      "text/plain": [
       "                  Maaş       Yaş   Çalışma\n",
       "Yeni İsimler                              \n",
       "Mete          1.216065 -0.973222 -0.057617\n",
       "Emre          0.134646 -0.886684 -0.108500\n",
       "Şükür        -0.502652  0.654828  0.400405"
      ]
     },
     "execution_count": 244,
     "metadata": {},
     "output_type": "execute_result"
    }
   ],
   "source": [
    "dataframe1.set_index(\"Yeni İsimler\" , inplace=True)\n",
    "dataframe1"
   ]
  },
  {
   "cell_type": "code",
   "execution_count": 246,
   "metadata": {},
   "outputs": [
    {
     "data": {
      "text/plain": [
       "Maaş       1.216065\n",
       "Yaş       -0.973222\n",
       "Çalışma   -0.057617\n",
       "Name: Mete, dtype: float64"
      ]
     },
     "execution_count": 246,
     "metadata": {},
     "output_type": "execute_result"
    }
   ],
   "source": [
    "dataframe1.loc[\"Mete\"]"
   ]
  },
  {
   "cell_type": "code",
   "execution_count": null,
   "metadata": {},
   "outputs": [],
   "source": []
  }
 ],
 "metadata": {
  "kernelspec": {
   "display_name": "Python 3",
   "language": "python",
   "name": "python3"
  },
  "language_info": {
   "codemirror_mode": {
    "name": "ipython",
    "version": 3
   },
   "file_extension": ".py",
   "mimetype": "text/x-python",
   "name": "python",
   "nbconvert_exporter": "python",
   "pygments_lexer": "ipython3",
   "version": "3.10.10"
  },
  "orig_nbformat": 4
 },
 "nbformat": 4,
 "nbformat_minor": 2
}
