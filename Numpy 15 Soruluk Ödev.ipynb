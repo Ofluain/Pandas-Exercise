{
 "cells": [
  {
   "cell_type": "code",
   "execution_count": 2,
   "metadata": {},
   "outputs": [],
   "source": [
    "import numpy as np"
   ]
  },
  {
   "cell_type": "code",
   "execution_count": 6,
   "metadata": {},
   "outputs": [
    {
     "data": {
      "text/plain": [
       "array([ 34,  40,  46,  52,  58,  64,  70,  76,  82,  88,  94, 100, 106,\n",
       "       112])"
      ]
     },
     "execution_count": 6,
     "metadata": {},
     "output_type": "execute_result"
    }
   ],
   "source": [
    "# soru : 2 \n",
    "arr1 = np.arange(34,113,6)\n",
    "arr1"
   ]
  },
  {
   "cell_type": "code",
   "execution_count": 4,
   "metadata": {},
   "outputs": [
    {
     "data": {
      "text/plain": [
       "array([   100.        ,    268.26957953,    719.685673  ,   1930.69772888,\n",
       "         5179.47467923,  13894.95494373,  37275.93720315, 100000.        ])"
      ]
     },
     "execution_count": 4,
     "metadata": {},
     "output_type": "execute_result"
    }
   ],
   "source": [
    "# soru : 4 \n",
    "arr2 = np.logspace(2,5 ,8)\n",
    "arr2"
   ]
  },
  {
   "cell_type": "code",
   "execution_count": 66,
   "metadata": {},
   "outputs": [
    {
     "data": {
      "text/plain": [
       "array([ 50,  55,  60,  65,  70,  75,  80,  85,  90,  95, 100, 105, 110,\n",
       "       115, 120, 125, 130, 135, 140, 145, 150, 155, 160, 165, 170, 175,\n",
       "       180, 185, 190, 195, 200, 205, 210, 215, 220, 225, 230, 235, 240,\n",
       "       245, 250, 255, 260, 265, 270, 275, 280, 285, 290, 295, 300, 305,\n",
       "       310, 315, 320, 325, 330, 335, 340, 345, 350, 355, 360, 365, 370,\n",
       "       375, 380, 385, 390, 395, 400, 405, 410, 415, 420, 425, 430, 435,\n",
       "       440, 445, 450, 455, 460, 465, 470, 475, 480, 485, 490, 495, 500])"
      ]
     },
     "execution_count": 66,
     "metadata": {},
     "output_type": "execute_result"
    }
   ],
   "source": [
    "# soru : 3\n",
    "arr3 = np.linspace(50,500,91 , dtype = int)\n",
    "arr3 "
   ]
  },
  {
   "cell_type": "code",
   "execution_count": 5,
   "metadata": {},
   "outputs": [
    {
     "data": {
      "text/plain": [
       "array([[0, 1, 2],\n",
       "       [3, 4, 5],\n",
       "       [6, 7, 8]])"
      ]
     },
     "execution_count": 5,
     "metadata": {},
     "output_type": "execute_result"
    }
   ],
   "source": [
    "# soru: 5 \n",
    "soru5 = np.arange(0,9)\n",
    "soru5.reshape(3,3)"
   ]
  },
  {
   "cell_type": "code",
   "execution_count": 21,
   "metadata": {},
   "outputs": [
    {
     "data": {
      "text/plain": [
       "array([[[  1,   2,   3,   4],\n",
       "        [ 10,  11,  12,  13]],\n",
       "\n",
       "       [[ 13,  14,  15,  16],\n",
       "        [100, 200, 300, 400]]])"
      ]
     },
     "execution_count": 21,
     "metadata": {},
     "output_type": "execute_result"
    }
   ],
   "source": [
    "# soru : 1\n",
    "soru1 = np.array([[[1,2,3,4] , [10,11,12,13,]] , [[13,14,15,16] , [100,200,300,400]]])\n",
    "soru1"
   ]
  },
  {
   "cell_type": "code",
   "execution_count": 25,
   "metadata": {},
   "outputs": [
    {
     "data": {
      "text/plain": [
       "3"
      ]
     },
     "execution_count": 25,
     "metadata": {},
     "output_type": "execute_result"
    }
   ],
   "source": [
    "soru1.ndim"
   ]
  },
  {
   "cell_type": "code",
   "execution_count": 28,
   "metadata": {},
   "outputs": [
    {
     "data": {
      "text/plain": [
       "array([[0, 0, 0, 0, 0, 0],\n",
       "       [0, 0, 0, 0, 0, 0],\n",
       "       [0, 0, 0, 0, 0, 0],\n",
       "       [0, 0, 0, 0, 0, 0],\n",
       "       [0, 0, 0, 0, 0, 0],\n",
       "       [0, 0, 0, 0, 0, 0]])"
      ]
     },
     "execution_count": 28,
     "metadata": {},
     "output_type": "execute_result"
    }
   ],
   "source": [
    "# soru : 6 \n",
    "np.zeros((6,6), dtype= int )"
   ]
  },
  {
   "cell_type": "code",
   "execution_count": 30,
   "metadata": {},
   "outputs": [
    {
     "data": {
      "text/plain": [
       "array([[1, 1, 1, 1],\n",
       "       [1, 1, 1, 1],\n",
       "       [1, 1, 1, 1],\n",
       "       [1, 1, 1, 1]])"
      ]
     },
     "execution_count": 30,
     "metadata": {},
     "output_type": "execute_result"
    }
   ],
   "source": [
    "# soru : 7\n",
    "np.ones((4,4) , dtype= int)"
   ]
  },
  {
   "cell_type": "code",
   "execution_count": 34,
   "metadata": {},
   "outputs": [
    {
     "data": {
      "text/plain": [
       "array([[1, 0, 0, 0, 0, 0, 0, 0],\n",
       "       [0, 1, 0, 0, 0, 0, 0, 0],\n",
       "       [0, 0, 1, 0, 0, 0, 0, 0],\n",
       "       [0, 0, 0, 1, 0, 0, 0, 0],\n",
       "       [0, 0, 0, 0, 1, 0, 0, 0],\n",
       "       [0, 0, 0, 0, 0, 1, 0, 0],\n",
       "       [0, 0, 0, 0, 0, 0, 1, 0],\n",
       "       [0, 0, 0, 0, 0, 0, 0, 1]])"
      ]
     },
     "execution_count": 34,
     "metadata": {},
     "output_type": "execute_result"
    }
   ],
   "source": [
    "# soru : 8 \n",
    "np.eye(8,8, dtype= int)"
   ]
  },
  {
   "cell_type": "code",
   "execution_count": 35,
   "metadata": {},
   "outputs": [
    {
     "data": {
      "text/plain": [
       "array([[3, 0, 0, 0, 0],\n",
       "       [0, 3, 0, 0, 0],\n",
       "       [0, 0, 3, 0, 0],\n",
       "       [0, 0, 0, 3, 0],\n",
       "       [0, 0, 0, 0, 3]])"
      ]
     },
     "execution_count": 35,
     "metadata": {},
     "output_type": "execute_result"
    }
   ],
   "source": [
    "# soru : 9\n",
    "np.eye(5,5, dtype=int) * 3"
   ]
  },
  {
   "cell_type": "code",
   "execution_count": 38,
   "metadata": {},
   "outputs": [
    {
     "data": {
      "text/plain": [
       "array([0. , 0.2, 0.4, 0.6, 0.8, 1. ])"
      ]
     },
     "execution_count": 38,
     "metadata": {},
     "output_type": "execute_result"
    }
   ],
   "source": [
    "# soru : 10 \n",
    "np.linspace(0,1,6 , dtype=float)"
   ]
  },
  {
   "cell_type": "code",
   "execution_count": 52,
   "metadata": {},
   "outputs": [
    {
     "data": {
      "text/plain": [
       "array([99, 71, 70, 64, 80, 99, 98, 58, 65, 90])"
      ]
     },
     "execution_count": 52,
     "metadata": {},
     "output_type": "execute_result"
    }
   ],
   "source": [
    "# soru : 11\n",
    "soru11 = np.random.randint(50,101,10)\n",
    "soru11"
   ]
  },
  {
   "cell_type": "code",
   "execution_count": 59,
   "metadata": {},
   "outputs": [
    {
     "data": {
      "text/plain": [
       "array([[99, 71],\n",
       "       [70, 64],\n",
       "       [80, 99],\n",
       "       [98, 58],\n",
       "       [65, 90]])"
      ]
     },
     "execution_count": 59,
     "metadata": {},
     "output_type": "execute_result"
    }
   ],
   "source": [
    "soru11.reshape((5,2))"
   ]
  },
  {
   "cell_type": "code",
   "execution_count": 93,
   "metadata": {},
   "outputs": [
    {
     "data": {
      "text/plain": [
       "array([ 100,  104,  109,  115,  120,  126,  132,  138,  145,  152,  159,\n",
       "        167,  175,  184,  193,  202,  212,  222,  232,  244,  255,  268,\n",
       "        281,  294,  308,  323,  339,  355,  372,  390,  409,  429,  449,\n",
       "        471,  494,  517,  542,  568,  596,  625,  655,  686,  719,  754,\n",
       "        790,  828,  868,  910,  954, 1000])"
      ]
     },
     "execution_count": 93,
     "metadata": {},
     "output_type": "execute_result"
    }
   ],
   "source": [
    "# soru : 12\n",
    "soru12 = np.logspace(2,3,50 ,dtype=int)\n",
    "soru12"
   ]
  },
  {
   "cell_type": "code",
   "execution_count": 61,
   "metadata": {},
   "outputs": [
    {
     "data": {
      "text/plain": [
       "array([[[ 100,  104,  109,  115,  120],\n",
       "        [ 126,  132,  138,  145,  152],\n",
       "        [ 159,  167,  175,  184,  193],\n",
       "        [ 202,  212,  222,  232,  244],\n",
       "        [ 255,  268,  281,  294,  308]],\n",
       "\n",
       "       [[ 323,  339,  355,  372,  390],\n",
       "        [ 409,  429,  449,  471,  494],\n",
       "        [ 517,  542,  568,  596,  625],\n",
       "        [ 655,  686,  719,  754,  790],\n",
       "        [ 828,  868,  910,  954, 1000]]])"
      ]
     },
     "execution_count": 61,
     "metadata": {},
     "output_type": "execute_result"
    }
   ],
   "source": [
    "soru12.reshape(2,5,5)"
   ]
  },
  {
   "cell_type": "code",
   "execution_count": 90,
   "metadata": {},
   "outputs": [
    {
     "data": {
      "text/plain": [
       "array([16, 55, 49, 49, 77, 28, 36, 72, 82, 72])"
      ]
     },
     "execution_count": 90,
     "metadata": {},
     "output_type": "execute_result"
    }
   ],
   "source": [
    "# soru 13 \n",
    "soru13 = np.random.randint(0,101,10)\n",
    "soru13"
   ]
  },
  {
   "cell_type": "code",
   "execution_count": 91,
   "metadata": {},
   "outputs": [
    {
     "name": "stdout",
     "output_type": "stream",
     "text": [
      "82\n",
      "16\n",
      "8\n",
      "0\n"
     ]
    }
   ],
   "source": [
    "print(soru13.max())\n",
    "print(soru13.min())\n",
    "print(soru13.argmax())\n",
    "print(soru13.argmin())"
   ]
  },
  {
   "cell_type": "code",
   "execution_count": 138,
   "metadata": {},
   "outputs": [
    {
     "data": {
      "text/plain": [
       "array([415, 324, 388, 382, 476, 343, 455, 308, 451, 353, 466, 460, 460,\n",
       "       468, 332, 339, 430, 477, 495, 493])"
      ]
     },
     "execution_count": 138,
     "metadata": {},
     "output_type": "execute_result"
    }
   ],
   "source": [
    "# soru : 14\n",
    "soru14 = np.random.randint(300,502,20, dtype=int)\n",
    "soru14"
   ]
  },
  {
   "cell_type": "code",
   "execution_count": 149,
   "metadata": {},
   "outputs": [
    {
     "data": {
      "text/plain": [
       "array([[[ 2.01471125,  1.38969186, -0.63074962, -0.15529825,\n",
       "          0.21497829],\n",
       "        [-0.24099829, -0.28800169,  0.85892976, -0.21437859,\n",
       "          0.03831335]],\n",
       "\n",
       "       [[ 0.449753  , -0.63880766,  1.08496735, -0.48391885,\n",
       "          1.2545376 ],\n",
       "        [ 0.44387976, -1.53317978,  1.11131447,  1.08923724,\n",
       "         -0.32527169]]])"
      ]
     },
     "execution_count": 149,
     "metadata": {},
     "output_type": "execute_result"
    }
   ],
   "source": [
    "soru14 = np.random.randn(2,2,5)\n",
    "soru14"
   ]
  },
  {
   "cell_type": "code",
   "execution_count": 156,
   "metadata": {},
   "outputs": [
    {
     "data": {
      "text/plain": [
       "array([ 0,  1,  2,  3,  4,  5,  6,  7,  8,  9, 10, 11, 12, 13, 14, 15, 16,\n",
       "       17, 18, 19, 20, 21, 22, 23, 24, 25, 26, 27, 28, 29, 30, 31, 32, 33,\n",
       "       34, 35, 36, 37, 38, 39, 40, 41, 42, 43, 44, 45, 46, 47, 48, 49, 50])"
      ]
     },
     "execution_count": 156,
     "metadata": {},
     "output_type": "execute_result"
    }
   ],
   "source": [
    "# soru : 15\n",
    "soru15 = np.arange(0,51)\n",
    "soru15"
   ]
  },
  {
   "cell_type": "code",
   "execution_count": 160,
   "metadata": {},
   "outputs": [
    {
     "data": {
      "text/plain": [
       "array([  0,   1,   2,   3,   4,   5,   6,   7,   8,   9,  10,  11,  12,\n",
       "        13,  14,  15,  16,  17,  18,  19, 500, 500, 500, 500, 500, 500,\n",
       "       500, 500, 500, 500, 500, 500, 500, 500, 500, 500,  36,  37,  38,\n",
       "        39,  40,  41,  42,  43,  44,  45,  46,  47,  48,  49,  50])"
      ]
     },
     "execution_count": 160,
     "metadata": {},
     "output_type": "execute_result"
    }
   ],
   "source": [
    "soru15[20:36] = 500\n",
    "soru15"
   ]
  },
  {
   "cell_type": "code",
   "execution_count": null,
   "metadata": {},
   "outputs": [],
   "source": []
  }
 ],
 "metadata": {
  "kernelspec": {
   "display_name": "Python 3",
   "language": "python",
   "name": "python3"
  },
  "language_info": {
   "codemirror_mode": {
    "name": "ipython",
    "version": 3
   },
   "file_extension": ".py",
   "mimetype": "text/x-python",
   "name": "python",
   "nbconvert_exporter": "python",
   "pygments_lexer": "ipython3",
   "version": "3.10.10"
  },
  "orig_nbformat": 4
 },
 "nbformat": 4,
 "nbformat_minor": 2
}
